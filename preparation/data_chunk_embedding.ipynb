{
 "cells": [
  {
   "cell_type": "markdown",
   "metadata": {},
   "source": [
    "<h3>Data Chunking and Embedding</h3>"
   ]
  },
  {
   "cell_type": "code",
   "execution_count": 30,
   "metadata": {
    "ExecuteTime": {
     "end_time": "2024-01-09T14:41:22.769107Z",
     "start_time": "2024-01-09T14:41:22.767474Z"
    }
   },
   "outputs": [],
   "source": [
    "from sentence_transformers import SentenceTransformer\n",
    "from langchain.text_splitter import SentenceTransformersTokenTextSplitter\n",
    "import pickle\n",
    "import pandas as pd\n",
    "from tqdm import tqdm\n",
    "from openai import OpenAI\n",
    "from dotenv import load_dotenv\n",
    "import os"
   ]
  },
  {
   "cell_type": "code",
   "execution_count": 31,
   "outputs": [],
   "source": [
    "load_dotenv()\n",
    "api_key = os.getenv('api_key')"
   ],
   "metadata": {
    "collapsed": false,
    "ExecuteTime": {
     "end_time": "2024-01-09T14:41:24.699720Z",
     "start_time": "2024-01-09T14:41:24.677494Z"
    }
   }
  },
  {
   "cell_type": "code",
   "execution_count": 32,
   "metadata": {
    "ExecuteTime": {
     "end_time": "2024-01-09T14:41:26.007611Z",
     "start_time": "2024-01-09T14:41:25.979851Z"
    }
   },
   "outputs": [],
   "source": [
    "def store_list(data, filename):\n",
    "    with open(filename, \"wb\") as f:\n",
    "        pickle.dump(data, f)"
   ]
  },
  {
   "cell_type": "markdown",
   "source": [
    "#### Split abstract to chunks"
   ],
   "metadata": {
    "collapsed": false
   }
  },
  {
   "cell_type": "code",
   "execution_count": 33,
   "metadata": {
    "ExecuteTime": {
     "end_time": "2024-01-09T14:41:28.462081Z",
     "start_time": "2024-01-09T14:41:28.456333Z"
    }
   },
   "outputs": [],
   "source": [
    "model_name = \"sentence-transformers/all-mpnet-base-v2\""
   ]
  },
  {
   "cell_type": "code",
   "execution_count": 34,
   "metadata": {
    "ExecuteTime": {
     "end_time": "2024-01-09T14:41:30.834554Z",
     "start_time": "2024-01-09T14:41:29.484956Z"
    }
   },
   "outputs": [],
   "source": [
    "splitter = SentenceTransformersTokenTextSplitter(\n",
    "    model_name=model_name, \n",
    "    chunk_overlap=20,\n",
    "    tokens_per_chunk=256\n",
    ")"
   ]
  },
  {
   "cell_type": "code",
   "execution_count": 35,
   "outputs": [],
   "source": [
    "df = pd.read_csv('all_med_data.csv')\n",
    "medpub_dict = df.to_dict(orient='records')"
   ],
   "metadata": {
    "collapsed": false,
    "ExecuteTime": {
     "end_time": "2024-01-09T14:42:05.556374Z",
     "start_time": "2024-01-09T14:42:03.444369Z"
    }
   }
  },
  {
   "cell_type": "markdown",
   "source": [
    "#### Define embedding function using model text-embedding-ada-002 from OpenAI"
   ],
   "metadata": {
    "collapsed": false
   }
  },
  {
   "cell_type": "markdown",
   "source": [
    "1. OpenAI text-embedding-ada-002"
   ],
   "metadata": {
    "collapsed": false
   }
  },
  {
   "cell_type": "code",
   "execution_count": null,
   "outputs": [],
   "source": [
    "client = OpenAI(api_key=api_key)\n",
    "\n",
    "def get_embedding(text, model=\"text-embedding-ada-002\"):\n",
    "   text = text.replace(\"\\n\", \" \")\n",
    "   return client.embeddings.create(input = [text], model=model).data[0].embedding"
   ],
   "metadata": {
    "collapsed": false
   }
  },
  {
   "cell_type": "markdown",
   "source": [
    "2. all-mpnet-base-v2"
   ],
   "metadata": {
    "collapsed": false
   }
  },
  {
   "cell_type": "code",
   "execution_count": 36,
   "outputs": [],
   "source": [
    "model = SentenceTransformer(model_name)"
   ],
   "metadata": {
    "collapsed": false,
    "ExecuteTime": {
     "end_time": "2024-01-09T14:42:11.636660Z",
     "start_time": "2024-01-09T14:42:10.607316Z"
    }
   }
  },
  {
   "cell_type": "markdown",
   "source": [
    "#### Create metadata with vector data"
   ],
   "metadata": {
    "collapsed": false
   }
  },
  {
   "cell_type": "code",
   "execution_count": 37,
   "metadata": {
    "ExecuteTime": {
     "end_time": "2024-01-09T17:24:23.778303Z",
     "start_time": "2024-01-09T14:42:20.099135Z"
    }
   },
   "outputs": [
    {
     "name": "stderr",
     "output_type": "stream",
     "text": [
      "100%|██████████| 58140/58140 [2:42:03<00:00,  5.98it/s]   \n"
     ]
    }
   ],
   "source": [
    "vector_data = []\n",
    "\n",
    "for doc in tqdm(medpub_dict):\n",
    "    \n",
    "    chunks = splitter.split_text(text=doc[\"Abstract\"])\n",
    "\n",
    "    for j, chunk in enumerate(chunks):\n",
    "\n",
    "        metadata = {\n",
    "            \"PMID\": doc[\"PMID\"],\n",
    "            \"title\": doc[\"Title\"],\n",
    "            \"authors\": doc[\"Authors\"],\n",
    "            \"first_author\": doc[\"First Author\"],\n",
    "            \"journal\": doc[\"Journal/Book\"],\n",
    "            \"publication_year\": doc[\"Publication Year\"],\n",
    "            \"text_chunk_id\": j,\n",
    "            \"chunk\": chunk,\n",
    "            \"abstract\": doc[\"Abstract\"]\n",
    "        }\n",
    "\n",
    "        # 1. with text-embedding-ada-002\n",
    "        # embedding = get_embedding(chunk, model=\"text-embedding-ada-002\")\n",
    "        # 2. with all-mpnet-base-v2\n",
    "        embedding = model.encode(chunk).tolist()\n",
    "\n",
    "        ids = f\"{doc['PMID']}_{j}\"\n",
    "\n",
    "        vector_data.append((ids, embedding, metadata)) \n"
   ]
  },
  {
   "cell_type": "markdown",
   "source": [
    "#### Store data"
   ],
   "metadata": {
    "collapsed": false
   }
  },
  {
   "cell_type": "code",
   "execution_count": 38,
   "metadata": {
    "ExecuteTime": {
     "end_time": "2024-01-09T17:24:51.833269Z",
     "start_time": "2024-01-09T17:24:37.603730Z"
    }
   },
   "outputs": [],
   "source": [
    "file_path = \"vector_data.pkl\"\n",
    "store_list(vector_data, file_path)"
   ]
  }
 ],
 "metadata": {
  "kernelspec": {
   "display_name": "Python 3 (ipykernel)",
   "language": "python",
   "name": "python3"
  },
  "language_info": {
   "codemirror_mode": {
    "name": "ipython",
    "version": 3
   },
   "file_extension": ".py",
   "mimetype": "text/x-python",
   "name": "python",
   "nbconvert_exporter": "python",
   "pygments_lexer": "ipython3",
   "version": "3.9.13"
  }
 },
 "nbformat": 4,
 "nbformat_minor": 2
}
