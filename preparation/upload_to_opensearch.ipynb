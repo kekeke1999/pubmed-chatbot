{
 "cells": [
  {
   "cell_type": "markdown",
   "source": [
    "# Upload to OpenSearch"
   ],
   "metadata": {
    "collapsed": false
   },
   "id": "2588acb4426b2a48"
  },
  {
   "cell_type": "code",
   "execution_count": 1,
   "outputs": [],
   "source": [
    "from opensearchpy import OpenSearch\n",
    "from tqdm import tqdm\n",
    "import pickle\n",
    "import os\n",
    "from dotenv import load_dotenv"
   ],
   "metadata": {
    "collapsed": false,
    "ExecuteTime": {
     "end_time": "2024-02-25T17:18:54.487304Z",
     "start_time": "2024-02-25T17:18:54.342908Z"
    }
   },
   "id": "9ff5f08d909b3a48"
  },
  {
   "cell_type": "code",
   "execution_count": 2,
   "outputs": [],
   "source": [
    "def opensearch_create_index(database_conn, index_name, os_mapping):\n",
    "    search_index = database_conn.indices.exists(index=index_name)\n",
    "\n",
    "    if not search_index:\n",
    "        database_conn.indices.create(\n",
    "            index=index_name,\n",
    "            ignore=[400, 404],\n",
    "            body=os_mapping,\n",
    "        )"
   ],
   "metadata": {
    "collapsed": false,
    "ExecuteTime": {
     "end_time": "2024-02-25T17:18:58.025750Z",
     "start_time": "2024-02-25T17:18:58.020460Z"
    }
   },
   "id": "fb5d493f1b24ce1b"
  },
  {
   "cell_type": "code",
   "execution_count": 3,
   "outputs": [],
   "source": [
    "def opensearch_connection(index_name):\n",
    "    user_name = os.getenv(\"DB_USERNAME\")\n",
    "    password = os.getenv(\"DB_PASSWORD\")\n",
    "    host = os.getenv(\"DB_HOSTNAME\")\n",
    "    port = os.getenv(\"DB_PORT\")\n",
    "\n",
    "    database_conn = OpenSearch(\n",
    "        hosts=[{\"host\": host, \"port\": port}],\n",
    "        http_auth=(user_name, password),\n",
    "        use_ssl=False,\n",
    "        verify_certs=False,\n",
    "        ssl_assert_hostname=False,\n",
    "        ssl_show_warn=False,\n",
    "    )\n",
    "\n",
    "    os_index_mapping = arxiv_index_mapping()\n",
    "\n",
    "    opensearch_create_index(database_conn, index_name, os_index_mapping)\n",
    "\n",
    "    return database_conn"
   ],
   "metadata": {
    "collapsed": false,
    "ExecuteTime": {
     "end_time": "2024-02-25T17:19:00.786616Z",
     "start_time": "2024-02-25T17:19:00.783554Z"
    }
   },
   "id": "3dab6c4e9a1c1fcf"
  },
  {
   "cell_type": "code",
   "execution_count": 4,
   "outputs": [],
   "source": [
    "def load_articles_vector(index_connection, article_info, index_name):\n",
    "    for article in tqdm(article_info, desc=\"Saving articles to database\"):\n",
    "        doc = {\n",
    "            \"title\": article[2][\"title\"].replace(\"[\", \"\").replace(\"]\", \"\"),\n",
    "            \"chunk_vector\": article[1],\n",
    "            \"authors\": article[2][\"authors\"],\n",
    "            \"journal\": article[2][\"journal\"],\n",
    "            \"text_chunk_id\": article[2][\"text_chunk_id\"],\n",
    "            \"publication_year\": article[2][\"publication_year\"],\n",
    "            \"abstract\": article[2][\"abstract\"],\n",
    "            \"chunk\": article[2][\"chunk\"],\n",
    "            \"first_author\": article[2][\"first_author\"],\n",
    "        }\n",
    "\n",
    "        _id = article[0]\n",
    "\n",
    "        index_connection.index(index=index_name, body=doc, id=_id)"
   ],
   "metadata": {
    "collapsed": false,
    "ExecuteTime": {
     "end_time": "2024-02-25T17:20:10.926639Z",
     "start_time": "2024-02-25T17:20:10.921016Z"
    }
   },
   "id": "ae3c4bfcf10191a9"
  },
  {
   "cell_type": "code",
   "execution_count": 5,
   "outputs": [],
   "source": [
    "def read_articles(filename):\n",
    "    with open(filename, \"rb\") as f:\n",
    "        articles_data = pickle.load(f)\n",
    "    return articles_data"
   ],
   "metadata": {
    "collapsed": false,
    "ExecuteTime": {
     "end_time": "2024-02-25T17:20:15.089742Z",
     "start_time": "2024-02-25T17:20:15.071677Z"
    }
   },
   "id": "55715a235521722a"
  },
  {
   "cell_type": "markdown",
   "source": [
    "### With Model all-mpnet-base-v2"
   ],
   "metadata": {
    "collapsed": false
   },
   "id": "a9a287fae55524a9"
  },
  {
   "cell_type": "code",
   "execution_count": 6,
   "outputs": [],
   "source": [
    "def arxiv_index_mapping():\n",
    "    os_mapping = {\n",
    "        \"settings\": {\n",
    "            \"index\": {\n",
    "                \"number_of_shards\": 1,\n",
    "                \"number_of_replicas\": 1,\n",
    "                \"knn\": True,\n",
    "            },\n",
    "        },\n",
    "        \"mappings\": {\n",
    "            \"properties\": {\n",
    "                \"chunk_vector\": {\n",
    "                    \"type\": \"knn_vector\",\n",
    "                    \"dimension\": 768,\n",
    "                    \"method\": {\n",
    "                        \"engine\": \"nmslib\",\n",
    "                        \"name\": \"hnsw\",\n",
    "                        \"space_type\": \"cosinesimil\",\n",
    "                        \"parameters\": {\n",
    "                            \"ef_construction\": 40,\n",
    "                            \"m\": 8,\n",
    "                        },\n",
    "                    },\n",
    "                },\n",
    "            }\n",
    "        },\n",
    "    }\n",
    "\n",
    "    return os_mapping"
   ],
   "metadata": {
    "collapsed": false,
    "ExecuteTime": {
     "end_time": "2024-02-25T17:20:16.164666Z",
     "start_time": "2024-02-25T17:20:16.162091Z"
    }
   },
   "id": "a8c5e8817690e073"
  },
  {
   "cell_type": "code",
   "execution_count": 7,
   "outputs": [],
   "source": [
    "load_dotenv()\n",
    "db_index = os.getenv('DB_INDEX')\n",
    "\n",
    "database_connection = opensearch_connection(db_index)"
   ],
   "metadata": {
    "collapsed": false,
    "ExecuteTime": {
     "end_time": "2024-02-25T17:20:35.212240Z",
     "start_time": "2024-02-25T17:20:34.828111Z"
    }
   },
   "id": "6bb9b836b19de994"
  },
  {
   "cell_type": "code",
   "execution_count": 10,
   "outputs": [
    {
     "name": "stderr",
     "output_type": "stream",
     "text": [
      "Saving articles to database: 100%|██████████| 106334/106334 [04:19<00:00, 409.88it/s]\n"
     ]
    }
   ],
   "source": [
    "data = read_articles(\"/Users/renke/Documents/23:24ws/NLPT/final_project/QA-System-INLPT-WS2023/data/vector_data.pkl\")\n",
    "load_articles_vector(database_connection, data, db_index)"
   ],
   "metadata": {
    "collapsed": false,
    "ExecuteTime": {
     "end_time": "2024-02-25T17:28:40.845341Z",
     "start_time": "2024-02-25T17:24:11.151234Z"
    }
   },
   "id": "f8d3988474a8d9a6"
  },
  {
   "cell_type": "markdown",
   "source": [],
   "metadata": {
    "collapsed": false
   },
   "id": "18b4137aa64af4d2"
  }
 ],
 "metadata": {
  "kernelspec": {
   "display_name": "Python 3",
   "language": "python",
   "name": "python3"
  },
  "language_info": {
   "codemirror_mode": {
    "name": "ipython",
    "version": 2
   },
   "file_extension": ".py",
   "mimetype": "text/x-python",
   "name": "python",
   "nbconvert_exporter": "python",
   "pygments_lexer": "ipython2",
   "version": "2.7.6"
  }
 },
 "nbformat": 4,
 "nbformat_minor": 5
}
