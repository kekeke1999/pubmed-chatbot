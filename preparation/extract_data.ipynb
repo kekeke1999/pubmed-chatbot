{
 "cells": [
  {
   "cell_type": "code",
   "execution_count": 61,
   "metadata": {},
   "outputs": [],
   "source": [
    "import re\n",
    "import pandas as pd\n",
    "\n",
    "with open('/Users/renke/Desktop/NLPT/project/med/all_med.txt', 'r', encoding='utf-8') as file:\n",
    "    text = file.read()\n",
    "\n",
    "paragraphs = text.split('\\n\\n')\n",
    "\n",
    "extracted_info = []\n",
    "\n",
    "for para in paragraphs:\n",
    "    pmid_match = re.search(r'PMID- (\\d+)', para)\n",
    "    pmid = pmid_match.group(1) if pmid_match else \"No PMID\"\n",
    "\n",
    "\n",
    "    title_match = re.search(r'TI  - (.+?)(?=\\n[A-Z]{2}  - |\\Z)', para, re.DOTALL)\n",
    "    title = ' '.join(title_match.group(1).split()).strip() if title_match else \"No title\"\n",
    "    if title and title.endswith('.'):\n",
    "        title = title[:-1]\n",
    "\n",
    "    abstract_match = re.search(r'AB  - (.+?)(?=\\n[A-Z]{2}  - |\\Z)', para, re.DOTALL)\n",
    "    abstract = ' '.join(abstract_match.group(1).split()).strip() if abstract_match else \"No abstract\"\n",
    "\n",
    "    first_author_match = re.search(r'FAU - (.+?)\\n', para)\n",
    "    first_author = first_author_match.group(1).strip() if first_author_match else \"No author\"\n",
    "\n",
    "    journal_title_match = re.search(r'JT  - (.+)', para) or re.search(r'BTI - ([\\w\\s\\d]+)', para)\n",
    "    journal_title = journal_title_match.group(1).strip() if journal_title_match else \"No book or journal\"\n",
    "\n",
    "    extracted_info.append({\n",
    "        'PMID': pmid,\n",
    "        'Title': title,\n",
    "        'Abstract': abstract,\n",
    "        'First Author': first_author,\n",
    "        'Journal Title': journal_title\n",
    "    })"
   ]
  },
  {
   "cell_type": "code",
   "execution_count": 63,
   "metadata": {},
   "outputs": [],
   "source": [
    "manually_extract_df = pd.DataFrame(extracted_info)\n",
    "manually_extract_df.drop_duplicates(subset='PMID', inplace=True)\n",
    "\n",
    "output_csv_path = '/Users/renke/Desktop/NLPT/project/med/manually_extract_data.csv'\n",
    "manually_extract_df.to_csv(output_csv_path, index=False, encoding='utf-8-sig')"
   ]
  },
  {
   "cell_type": "code",
   "execution_count": 3,
   "metadata": {},
   "outputs": [],
   "source": [
    "file_names = []\n",
    "for i in range(2,10):\n",
    "    file_names.append(\"/Users/renke/Desktop/NLPT/project/csv/csv-intelligen-set-\" + str(i) + \".csv\")\n",
    "\n",
    "automatic_generate_df = [pd.read_csv(file) for file in file_names]\n",
    "\n",
    "automatic_generate_df = pd.concat(automatic_generate_df)\n",
    "\n",
    "automatic_generate_df.drop_duplicates(subset='PMID', inplace=True)\n",
    "\n",
    "automatic_generate_df.to_csv('/Users/renke/Desktop/NLPT/project/csv/automatic_generate_data.csv', index=False)\n"
   ]
  },
  {
   "cell_type": "code",
   "execution_count": null,
   "metadata": {},
   "outputs": [
    {
     "name": "stdout",
     "output_type": "stream",
     "text": [
      "Unique to df1: set()\n",
      "Unique to df2: set()\n"
     ]
    }
   ],
   "source": [
    "pmids_df1 = set(manually_extract_df['PMID'])\n",
    "pmids_df2 = set(automatic_generate_df['PMID'])\n",
    "\n",
    "unique_to_df1 = pmids_df1 - pmids_df2\n",
    "\n",
    "unique_to_df2 = pmids_df2 - pmids_df1\n",
    "\n",
    "print(\"Unique to df1:\", unique_to_df1)\n",
    "print(\"Unique to df2:\", unique_to_df2)"
   ]
  },
  {
   "cell_type": "code",
   "execution_count": 9,
   "metadata": {},
   "outputs": [],
   "source": [
    "merged_df = pd.merge(automatic_generate_df, manually_extract_df, on='PMID', how='outer')"
   ]
  },
  {
   "cell_type": "code",
   "execution_count": null,
   "metadata": {},
   "outputs": [],
   "source": [
    "filtered_df = merged_df[['PMID', 'First Author', 'Title_x', 'Authors', 'Journal/Book', 'Publication Year', 'Abstract']]"
   ]
  },
  {
   "cell_type": "code",
   "execution_count": 12,
   "metadata": {},
   "outputs": [
    {
     "name": "stderr",
     "output_type": "stream",
     "text": [
      "/Users/renke/opt/anaconda3/lib/python3.9/site-packages/pandas/core/frame.py:4441: SettingWithCopyWarning: \n",
      "A value is trying to be set on a copy of a slice from a DataFrame\n",
      "\n",
      "See the caveats in the documentation: https://pandas.pydata.org/pandas-docs/stable/user_guide/indexing.html#returning-a-view-versus-a-copy\n",
      "  return super().rename(\n"
     ]
    }
   ],
   "source": [
    "filtered_df.rename(columns={'Title_x': 'Title'}, inplace=True)"
   ]
  },
  {
   "cell_type": "code",
   "execution_count": 14,
   "metadata": {},
   "outputs": [
    {
     "name": "stderr",
     "output_type": "stream",
     "text": [
      "/var/folders/3g/qpwnhndx29l3cy3rr9zvpr9h0000gn/T/ipykernel_94625/1945396495.py:1: SettingWithCopyWarning: \n",
      "A value is trying to be set on a copy of a slice from a DataFrame.\n",
      "Try using .loc[row_indexer,col_indexer] = value instead\n",
      "\n",
      "See the caveats in the documentation: https://pandas.pydata.org/pandas-docs/stable/user_guide/indexing.html#returning-a-view-versus-a-copy\n",
      "  filtered_df['Abstract'] = filtered_df['Abstract'].fillna('No abstract available')\n"
     ]
    }
   ],
   "source": [
    "filtered_df['Abstract'] = filtered_df['Abstract'].fillna('No abstract available')\n",
    "filtered_df['Authors'] = filtered_df['Authors'].fillna('No authors available')\n",
    "filtered_df['First Author'] = filtered_df['First Author'].fillna('No first author available')\n",
    "filtered_df['Journal/Book'] = filtered_df['Journal/Book'].fillna('No journal/book available')\n",
    "filtered_df['Publication Year'] = filtered_df['Publication Year'].fillna('No publication year available')\n",
    "filtered_df['Title'] = filtered_df['Title'].fillna('No title available')\n",
    "\n",
    "filtered_df = filtered_df[filtered_df['Abstract'] != \"No abstract available\"]\n",
    "filtered_df = filtered_df[filtered_df['Abstract'] != \"No abstract available.\"]\n",
    "\n",
    "filtered_df.to_csv('/Users/renke/Desktop/NLPT/project/all_med_data.csv', index=False)"
   ]
  }
 ],
 "metadata": {
  "kernelspec": {
   "display_name": "Python 3 (ipykernel)",
   "language": "python",
   "name": "python3"
  },
  "language_info": {
   "codemirror_mode": {
    "name": "ipython",
    "version": 3
   },
   "file_extension": ".py",
   "mimetype": "text/x-python",
   "name": "python",
   "nbconvert_exporter": "python",
   "pygments_lexer": "ipython3",
   "version": "3.9.13"
  }
 },
 "nbformat": 4,
 "nbformat_minor": 2
}
